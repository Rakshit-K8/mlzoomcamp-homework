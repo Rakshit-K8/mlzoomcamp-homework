{
 "cells": [
  {
   "cell_type": "code",
   "execution_count": 1,
   "id": "92f21f6a-9ced-400f-aa3b-c159c0b56ed9",
   "metadata": {},
   "outputs": [],
   "source": [
    "import pandas as pd"
   ]
  },
  {
   "cell_type": "code",
   "execution_count": 2,
   "id": "faded110-2c0b-49dd-af61-d3a403ccb65b",
   "metadata": {},
   "outputs": [],
   "source": [
    "url = \"https://raw.githubusercontent.com/alexeygrigorev/datasets/master/car_fuel_efficiency.csv\"\n",
    "df = pd.read_csv(url)"
   ]
  },
  {
   "cell_type": "code",
   "execution_count": 12,
   "id": "fd9d62f1-fde2-4137-ae17-9b47fe6267a4",
   "metadata": {},
   "outputs": [
    {
     "name": "stdout",
     "output_type": "stream",
     "text": [
      "Q1: Pandas version = 2.1.2\n"
     ]
    }
   ],
   "source": [
    "# Q1: Pandas version\n",
    "print(\"Q1: Pandas version =\", pd.__version__)"
   ]
  },
  {
   "cell_type": "code",
   "execution_count": 4,
   "id": "266a86ab-9b5f-449a-9da5-1541d6e99cfa",
   "metadata": {},
   "outputs": [
    {
     "name": "stdout",
     "output_type": "stream",
     "text": [
      "Q2: Records count = 9704\n"
     ]
    }
   ],
   "source": [
    "# Q2: Records count\n",
    "print(\"Q2: Records count =\", len(df))"
   ]
  },
  {
   "cell_type": "code",
   "execution_count": 5,
   "id": "9112c1fd-83b8-461b-9c8d-019d70ab0ce1",
   "metadata": {},
   "outputs": [
    {
     "name": "stdout",
     "output_type": "stream",
     "text": [
      "Q3: Fuel types = 2\n"
     ]
    }
   ],
   "source": [
    "# Q3: Unique fuel types\n",
    "print(\"Q3: Fuel types =\", df['fuel_type'].nunique())"
   ]
  },
  {
   "cell_type": "code",
   "execution_count": 6,
   "id": "69f7a607-2f21-444a-9209-8d1fa537ece3",
   "metadata": {},
   "outputs": [
    {
     "name": "stdout",
     "output_type": "stream",
     "text": [
      "Q4: Missing values = 2622\n"
     ]
    }
   ],
   "source": [
    "# Q4: Missing values\n",
    "print(\"Q4: Missing values =\", df.isnull().sum().sum())"
   ]
  },
  {
   "cell_type": "code",
   "execution_count": 7,
   "id": "b77742dc-9d6e-4982-9520-578e3d426f45",
   "metadata": {},
   "outputs": [
    {
     "name": "stdout",
     "output_type": "stream",
     "text": [
      "Q5: Max fuel efficiency = 25.96722204888372\n"
     ]
    }
   ],
   "source": [
    "# Q5: Max fuel efficiency\n",
    "print(\"Q5: Max fuel efficiency =\", df['fuel_efficiency_mpg'].max())"
   ]
  },
  {
   "cell_type": "code",
   "execution_count": 8,
   "id": "d1d3ed67-823b-4533-a65b-181189050731",
   "metadata": {},
   "outputs": [
    {
     "name": "stdout",
     "output_type": "stream",
     "text": [
      "Q6. Median horsepower (overall): 149.0\n"
     ]
    }
   ],
   "source": [
    "# Q6: Median horsepower trend\n",
    "median_hp = df['horsepower'].median()\n",
    "print(\"Q6. Median horsepower (overall):\", median_hp)"
   ]
  },
  {
   "cell_type": "code",
   "execution_count": 9,
   "id": "7a724e53-c444-44e0-aedc-9e873cf435e4",
   "metadata": {},
   "outputs": [
    {
     "name": "stdout",
     "output_type": "stream",
     "text": [
      "\n",
      "Median horsepower by model_year:\n",
      "model_year\n",
      "2000    149.0\n",
      "2001    149.0\n",
      "2002    145.0\n",
      "2003    147.0\n",
      "2004    147.0\n",
      "2005    147.5\n",
      "2006    151.0\n",
      "2007    151.0\n",
      "2008    154.0\n",
      "2009    150.0\n",
      "2010    148.5\n",
      "2011    152.0\n",
      "2012    151.0\n",
      "2013    148.0\n",
      "2014    151.0\n",
      "2015    151.0\n",
      "2016    150.0\n",
      "2017    149.0\n",
      "2018    150.0\n",
      "2019    148.0\n",
      "2020    150.5\n",
      "2021    149.0\n",
      "2022    149.0\n",
      "2023    150.5\n",
      "Name: horsepower, dtype: float64\n",
      "Answer: Yes, it increased\n"
     ]
    }
   ],
   "source": [
    "median_hp_by_year = df.groupby('model_year')['horsepower'].median()\n",
    "print(\"\\nMedian horsepower by model_year:\")\n",
    "print(median_hp_by_year)\n",
    "\n",
    "if median_hp_by_year.iloc[-1] < median_hp_by_year.iloc[0]:\n",
    "    print(\"Answer: Yes, it decreased\")\n",
    "elif median_hp_by_year.iloc[-1] > median_hp_by_year.iloc[0]:\n",
    "    print(\"Answer: Yes, it increased\")\n",
    "else:\n",
    "    print(\"Answer: No\")"
   ]
  },
  {
   "cell_type": "code",
   "execution_count": 10,
   "id": "01619a5b-d907-4da5-b870-3e1801f4878a",
   "metadata": {},
   "outputs": [
    {
     "name": "stdout",
     "output_type": "stream",
     "text": [
      "Q7. Sum of vehicle weights: 29124430.759692904\n"
     ]
    }
   ],
   "source": [
    "# Q7: Sum of weights\n",
    "print(\"Q7. Sum of vehicle weights:\", df['vehicle_weight'].sum())"
   ]
  },
  {
   "cell_type": "code",
   "execution_count": null,
   "id": "0ad50654-3524-497c-9c76-dcee38f15e5e",
   "metadata": {},
   "outputs": [],
   "source": []
  }
 ],
 "metadata": {
  "kernelspec": {
   "display_name": "Python 3 (ipykernel)",
   "language": "python",
   "name": "python3"
  },
  "language_info": {
   "codemirror_mode": {
    "name": "ipython",
    "version": 3
   },
   "file_extension": ".py",
   "mimetype": "text/x-python",
   "name": "python",
   "nbconvert_exporter": "python",
   "pygments_lexer": "ipython3",
   "version": "3.12.0"
  }
 },
 "nbformat": 4,
 "nbformat_minor": 5
}
