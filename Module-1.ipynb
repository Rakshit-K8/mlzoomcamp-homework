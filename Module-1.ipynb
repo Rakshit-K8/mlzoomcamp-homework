{
 "cells": [
  {
   "cell_type": "code",
   "execution_count": 1,
   "id": "fdf5cdf8-51ec-43f9-baf1-4f1f1c67ca6b",
   "metadata": {},
   "outputs": [],
   "source": [
    "import pandas as pd\n",
    "import numpy as np"
   ]
  },
  {
   "cell_type": "code",
   "execution_count": 2,
   "id": "18b8d199-2133-47a0-9c38-3d768dc73bb8",
   "metadata": {},
   "outputs": [],
   "source": [
    "url = \"https://raw.githubusercontent.com/alexeygrigorev/datasets/master/car_fuel_efficiency.csv\"\n",
    "df = pd.read_csv(url)"
   ]
  },
  {
   "cell_type": "code",
   "execution_count": 3,
   "id": "21bd1299-6d96-491b-9707-bc3b28abfd51",
   "metadata": {},
   "outputs": [
    {
     "name": "stdout",
     "output_type": "stream",
     "text": [
      "Q1: Pandas version = 2.1.2\n"
     ]
    }
   ],
   "source": [
    "# Q1: Pandas version\n",
    "print(\"Q1: Pandas version =\", pd.__version__)"
   ]
  },
  {
   "cell_type": "code",
   "execution_count": 4,
   "id": "9ead8729-9a14-4271-b51f-29d526b8c4e9",
   "metadata": {},
   "outputs": [
    {
     "name": "stdout",
     "output_type": "stream",
     "text": [
      "Q2: 9704\n"
     ]
    }
   ],
   "source": [
    "# Q2: Records count\n",
    "print(\"Q2:\", len(df))"
   ]
  },
  {
   "cell_type": "code",
   "execution_count": 5,
   "id": "2881a633-b9a4-4d5d-bb6a-5b751bff08f4",
   "metadata": {},
   "outputs": [
    {
     "name": "stdout",
     "output_type": "stream",
     "text": [
      "Q3: 2\n"
     ]
    }
   ],
   "source": [
    "# Q3: Fuel types\n",
    "print(\"Q3:\", df['fuel_type'].nunique())"
   ]
  },
  {
   "cell_type": "code",
   "execution_count": 6,
   "id": "afb170a3-3f74-4527-ae55-a53a63d6fd41",
   "metadata": {},
   "outputs": [
    {
     "name": "stdout",
     "output_type": "stream",
     "text": [
      "Q4: 4\n"
     ]
    }
   ],
   "source": [
    "# Q4: Missing values\n",
    "print(\"Q4:\", df.isnull().any().sum())"
   ]
  },
  {
   "cell_type": "code",
   "execution_count": 7,
   "id": "e87d0c30-aae6-4ca9-b346-05b586427d94",
   "metadata": {},
   "outputs": [
    {
     "name": "stdout",
     "output_type": "stream",
     "text": [
      "Q5: 23.759122836520497\n"
     ]
    }
   ],
   "source": [
    "# Q5: Max fuel efficiency of cars from Asia\n",
    "print(\"Q5:\", df[df['origin'] == 'Asia']['fuel_efficiency_mpg'].max())"
   ]
  },
  {
   "cell_type": "code",
   "execution_count": 8,
   "id": "e4ef36b8-f64f-4cd8-abb0-e06b05403a16",
   "metadata": {},
   "outputs": [
    {
     "name": "stdout",
     "output_type": "stream",
     "text": [
      "Q6: Yes, it increased\n"
     ]
    }
   ],
   "source": [
    "# Q6: Median horsepower before and after filling missing values\n",
    "median_hp_before = df['horsepower'].median()\n",
    "mode_hp = df['horsepower'].mode()[0]\n",
    "df['horsepower_filled'] = df['horsepower'].fillna(mode_hp)\n",
    "median_hp_after = df['horsepower_filled'].median()\n",
    "\n",
    "if median_hp_after > median_hp_before:\n",
    "    print(\"Q6: Yes, it increased\")\n",
    "elif median_hp_after < median_hp_before:\n",
    "    print(\"Q6: Yes, it decreased\")\n",
    "else:\n",
    "    print(\"Q6: No\")\n"
   ]
  },
  {
   "cell_type": "code",
   "execution_count": 9,
   "id": "60e06f3c-bee8-4b11-b953-f23a93ef20f6",
   "metadata": {},
   "outputs": [
    {
     "name": "stdout",
     "output_type": "stream",
     "text": [
      "Q7: 0.5187709081074016\n"
     ]
    }
   ],
   "source": [
    "# Q7: Matrix operations\n",
    "X = df[df['origin'] == 'Asia'][['vehicle_weight', 'model_year']].head(7).to_numpy()\n",
    "XTX = X.T.dot(X)\n",
    "XTX_inv = np.linalg.inv(XTX)\n",
    "y = np.array([1100, 1300, 800, 900, 1000, 1100, 1200])\n",
    "w = XTX_inv.dot(X.T).dot(y)\n",
    "print(\"Q7:\", w.sum())"
   ]
  },
  {
   "cell_type": "code",
   "execution_count": null,
   "id": "9af76083-318e-40ae-adce-fcd449908b99",
   "metadata": {},
   "outputs": [],
   "source": []
  }
 ],
 "metadata": {
  "kernelspec": {
   "display_name": "Python 3 (ipykernel)",
   "language": "python",
   "name": "python3"
  },
  "language_info": {
   "codemirror_mode": {
    "name": "ipython",
    "version": 3
   },
   "file_extension": ".py",
   "mimetype": "text/x-python",
   "name": "python",
   "nbconvert_exporter": "python",
   "pygments_lexer": "ipython3",
   "version": "3.12.0"
  }
 },
 "nbformat": 4,
 "nbformat_minor": 5
}
